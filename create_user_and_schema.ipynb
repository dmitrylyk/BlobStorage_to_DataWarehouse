{
    "metadata": {
        "kernelspec": {
            "name": "SQL",
            "display_name": "SQL",
            "language": "sql"
        },
        "language_info": {
            "name": "sql",
            "version": ""
        }
    },
    "nbformat_minor": 2,
    "nbformat": 4,
    "cells": [
        {
            "cell_type": "code",
            "source": [
                "CREATE SCHEMA lykhovsky_schema\n",
                "GO\n",
                ""
            ],
            "metadata": {
                "azdata_cell_guid": "f5d03283-22af-4223-b10b-04a883025a6c"
            },
            "outputs": [
                {
                    "output_type": "display_data",
                    "data": {
                        "text/html": "Commands completed successfully."
                    },
                    "metadata": {}
                },
                {
                    "output_type": "display_data",
                    "data": {
                        "text/html": "Total execution time: 00:00:00.340"
                    },
                    "metadata": {}
                }
            ],
            "execution_count": 1
        },
        {
            "cell_type": "code",
            "source": [
                "CREATE LOGIN lykhovsky \n",
                "WITH PASSWORD = '';\n",
                ""
            ],
            "metadata": {
                "azdata_cell_guid": "82c5512b-74c7-47c7-b625-9598704ff9b3"
            },
            "outputs": [
                {
                    "output_type": "error",
                    "ename": "",
                    "evalue": "Msg 5001, Level 16, State 2, Line 1\nUser must be in the master database.",
                    "traceback": []
                },
                {
                    "output_type": "display_data",
                    "data": {
                        "text/html": "Total execution time: 00:00:00.068"
                    },
                    "metadata": {}
                }
            ],
            "execution_count": 2
        },
        {
            "cell_type": "code",
            "source": [
                "CREATE USER lykhovsky FOR LOGIN lykhovsky \n",
                "WITH DEFAULT_SCHEMA = [lykhovsky_schema]\n",
                ""
            ],
            "metadata": {
                "azdata_cell_guid": "30800347-fbaa-4e77-a7d9-38dfaee8b55e"
            },
            "outputs": [
                {
                    "output_type": "display_data",
                    "data": {
                        "text/html": "Commands completed successfully."
                    },
                    "metadata": {}
                },
                {
                    "output_type": "display_data",
                    "data": {
                        "text/html": "Total execution time: 00:00:00.299"
                    },
                    "metadata": {}
                }
            ],
            "execution_count": 3
        },
        {
            "cell_type": "code",
            "source": [
                "EXEC sp_addrolemember 'db_owner', 'lykhovsky';\n",
                ""
            ],
            "metadata": {
                "azdata_cell_guid": "20b3dcc3-346c-4245-8348-3b81820fa64c"
            },
            "outputs": [
                {
                    "output_type": "display_data",
                    "data": {
                        "text/html": "Commands completed successfully."
                    },
                    "metadata": {}
                },
                {
                    "output_type": "display_data",
                    "data": {
                        "text/html": "Total execution time: 00:00:00.074"
                    },
                    "metadata": {}
                }
            ],
            "execution_count": 4
        }
    ]
}