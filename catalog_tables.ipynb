{
    "metadata": {
        "kernelspec": {
            "name": "SQL",
            "display_name": "SQL",
            "language": "sql"
        },
        "language_info": {
            "name": "sql",
            "version": ""
        }
    },
    "nbformat_minor": 2,
    "nbformat": 4,
    "cells": [
        {
            "cell_type": "code",
            "source": [
                "CREATE TABLE lykhovsky_schema.Vendor (ID INT, Name VARCHAR(50)) WITH (\n",
                "    DISTRIBUTION = REPLICATE\n",
                ")\n",
                "\n",
                "INSERT INTO lykhovsky_schema.Vendor (ID, Name) VALUES (1, 'Creative Mobile Technologies, LLC') \n",
                "INSERT INTO lykhovsky_schema.Vendor (ID, Name) VALUES (2, 'VeriFone Inc.') \n",
                "\n",
                "CREATE TABLE lykhovsky_schema.RateCode (ID INT, Name VARCHAR(30)) WITH (\n",
                "    DISTRIBUTION = REPLICATE\n",
                ")\n",
                "\n",
                "INSERT INTO lykhovsky_schema.RateCode (ID, Name) VALUES (1, 'Standard rate') \n",
                "INSERT INTO lykhovsky_schema.RateCode (ID, Name) VALUES (2, 'JFK') \n",
                "INSERT INTO lykhovsky_schema.RateCode (ID, Name) VALUES (3, 'Newark') \n",
                "INSERT INTO lykhovsky_schema.RateCode (ID, Name) VALUES (4, 'Nassau or Westchester') \n",
                "INSERT INTO lykhovsky_schema.RateCode (ID, Name) VALUES (5, 'Negotiated fare') \n",
                "INSERT INTO lykhovsky_schema.RateCode (ID, Name) VALUES (6, 'Group ride') \n",
                "\n",
                "CREATE TABLE lykhovsky_schema.Payment_type (ID INT, Name VARCHAR(30)) WITH (\n",
                "    DISTRIBUTION = REPLICATE\n",
                ")\n",
                "\n",
                "INSERT INTO lykhovsky_schema.Payment_type (ID, Name) VALUES (1, 'Credit card') \n",
                "INSERT INTO lykhovsky_schema.Payment_type (ID, Name) VALUES (2, 'Cash') \n",
                "INSERT INTO lykhovsky_schema.Payment_type (ID, Name) VALUES (3, 'No charge') \n",
                "INSERT INTO lykhovsky_schema.Payment_type (ID, Name) VALUES (4, 'Dispute') \n",
                "INSERT INTO lykhovsky_schema.Payment_type (ID, Name) VALUES (5, 'Unknown') \n",
                "INSERT INTO lykhovsky_schema.Payment_type (ID, Name) VALUES (6, 'Voided trip') \n",
                ""
            ],
            "metadata": {
                "azdata_cell_guid": "01fba2ae-161b-4c90-b423-a43752c909f6"
            },
            "outputs": [
                {
                    "output_type": "display_data",
                    "data": {
                        "text/html": "(1 row affected)"
                    },
                    "metadata": {}
                },
                {
                    "output_type": "display_data",
                    "data": {
                        "text/html": "(1 row affected)"
                    },
                    "metadata": {}
                },
                {
                    "output_type": "display_data",
                    "data": {
                        "text/html": "(1 row affected)"
                    },
                    "metadata": {}
                },
                {
                    "output_type": "display_data",
                    "data": {
                        "text/html": "(1 row affected)"
                    },
                    "metadata": {}
                },
                {
                    "output_type": "display_data",
                    "data": {
                        "text/html": "(1 row affected)"
                    },
                    "metadata": {}
                },
                {
                    "output_type": "display_data",
                    "data": {
                        "text/html": "(1 row affected)"
                    },
                    "metadata": {}
                },
                {
                    "output_type": "display_data",
                    "data": {
                        "text/html": "(1 row affected)"
                    },
                    "metadata": {}
                },
                {
                    "output_type": "display_data",
                    "data": {
                        "text/html": "(1 row affected)"
                    },
                    "metadata": {}
                },
                {
                    "output_type": "display_data",
                    "data": {
                        "text/html": "(1 row affected)"
                    },
                    "metadata": {}
                },
                {
                    "output_type": "display_data",
                    "data": {
                        "text/html": "(1 row affected)"
                    },
                    "metadata": {}
                },
                {
                    "output_type": "display_data",
                    "data": {
                        "text/html": "(1 row affected)"
                    },
                    "metadata": {}
                },
                {
                    "output_type": "display_data",
                    "data": {
                        "text/html": "(1 row affected)"
                    },
                    "metadata": {}
                },
                {
                    "output_type": "display_data",
                    "data": {
                        "text/html": "(1 row affected)"
                    },
                    "metadata": {}
                },
                {
                    "output_type": "display_data",
                    "data": {
                        "text/html": "(1 row affected)"
                    },
                    "metadata": {}
                },
                {
                    "output_type": "display_data",
                    "data": {
                        "text/html": "(2 rows affected)"
                    },
                    "metadata": {}
                },
                {
                    "output_type": "display_data",
                    "data": {
                        "text/html": "(6 rows affected)"
                    },
                    "metadata": {}
                },
                {
                    "output_type": "display_data",
                    "data": {
                        "text/html": "(6 rows affected)"
                    },
                    "metadata": {}
                },
                {
                    "output_type": "display_data",
                    "data": {
                        "text/html": "Total execution time: 00:00:03.075"
                    },
                    "metadata": {}
                },
                {
                    "output_type": "execute_result",
                    "metadata": {},
                    "execution_count": 1,
                    "data": {
                        "application/vnd.dataresource+json": {
                            "schema": {
                                "fields": [
                                    {
                                        "name": "ID"
                                    },
                                    {
                                        "name": "Name"
                                    }
                                ]
                            },
                            "data": [
                                {
                                    "0": "1",
                                    "1": "Creative Mobile Technologies, LLC"
                                },
                                {
                                    "0": "2",
                                    "1": "VeriFone Inc."
                                }
                            ]
                        },
                        "text/html": [
                            "<table>",
                            "<tr><th>ID</th><th>Name</th></tr>",
                            "<tr><td>1</td><td>Creative Mobile Technologies, LLC</td></tr>",
                            "<tr><td>2</td><td>VeriFone Inc.</td></tr>",
                            "</table>"
                        ]
                    }
                },
                {
                    "output_type": "execute_result",
                    "metadata": {},
                    "execution_count": 1,
                    "data": {
                        "application/vnd.dataresource+json": {
                            "schema": {
                                "fields": [
                                    {
                                        "name": "ID"
                                    },
                                    {
                                        "name": "Name"
                                    }
                                ]
                            },
                            "data": [
                                {
                                    "0": "6",
                                    "1": "Group ride"
                                },
                                {
                                    "0": "3",
                                    "1": "Newark"
                                },
                                {
                                    "0": "4",
                                    "1": "Nassau or Westchester"
                                },
                                {
                                    "0": "2",
                                    "1": "JFK"
                                },
                                {
                                    "0": "1",
                                    "1": "Standard rate"
                                },
                                {
                                    "0": "5",
                                    "1": "Negotiated fare"
                                }
                            ]
                        },
                        "text/html": [
                            "<table>",
                            "<tr><th>ID</th><th>Name</th></tr>",
                            "<tr><td>6</td><td>Group ride</td></tr>",
                            "<tr><td>3</td><td>Newark</td></tr>",
                            "<tr><td>4</td><td>Nassau or Westchester</td></tr>",
                            "<tr><td>2</td><td>JFK</td></tr>",
                            "<tr><td>1</td><td>Standard rate</td></tr>",
                            "<tr><td>5</td><td>Negotiated fare</td></tr>",
                            "</table>"
                        ]
                    }
                },
                {
                    "output_type": "execute_result",
                    "metadata": {},
                    "execution_count": 1,
                    "data": {
                        "application/vnd.dataresource+json": {
                            "schema": {
                                "fields": [
                                    {
                                        "name": "ID"
                                    },
                                    {
                                        "name": "Name"
                                    }
                                ]
                            },
                            "data": [
                                {
                                    "0": "1",
                                    "1": "Credit card"
                                },
                                {
                                    "0": "4",
                                    "1": "Dispute"
                                },
                                {
                                    "0": "5",
                                    "1": "Unknown"
                                },
                                {
                                    "0": "2",
                                    "1": "Cash"
                                },
                                {
                                    "0": "3",
                                    "1": "No charge"
                                },
                                {
                                    "0": "6",
                                    "1": "Voided trip"
                                }
                            ]
                        },
                        "text/html": [
                            "<table>",
                            "<tr><th>ID</th><th>Name</th></tr>",
                            "<tr><td>1</td><td>Credit card</td></tr>",
                            "<tr><td>4</td><td>Dispute</td></tr>",
                            "<tr><td>5</td><td>Unknown</td></tr>",
                            "<tr><td>2</td><td>Cash</td></tr>",
                            "<tr><td>3</td><td>No charge</td></tr>",
                            "<tr><td>6</td><td>Voided trip</td></tr>",
                            "</table>"
                        ]
                    }
                }
            ],
            "execution_count": 1
        }
    ]
}