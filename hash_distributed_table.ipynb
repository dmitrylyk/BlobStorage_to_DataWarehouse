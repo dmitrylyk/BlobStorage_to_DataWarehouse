{
    "metadata": {
        "kernelspec": {
            "name": "SQL",
            "display_name": "SQL",
            "language": "sql"
        },
        "language_info": {
            "name": "sql",
            "version": ""
        }
    },
    "nbformat_minor": 2,
    "nbformat": 4,
    "cells": [
        {
            "cell_type": "code",
            "source": [
                "CREATE TABLE lykhovsky_schema.fact_tripdata WITH (\n",
                "    CLUSTERED COLUMNSTORE INDEX,\n",
                "    DISTRIBUTION = HASH (DOLocationID)\n",
                ")\n",
                "AS\n",
                "    SELECT * FROM lykhovsky_schema.table_external"
            ],
            "metadata": {
                "azdata_cell_guid": "b5d67510-b871-4845-94ec-e9789c05a4b0"
            },
            "outputs": [
                {
                    "output_type": "error",
                    "evalue": "Msg 2714, Level 16, State 1, Line 1\nThere is already an object named 'fact_tripdata' in the database.",
                    "ename": "",
                    "traceback": []
                },
                {
                    "output_type": "display_data",
                    "data": {
                        "text/html": "Total execution time: 00:00:00.089"
                    },
                    "metadata": {}
                }
            ],
            "execution_count": 2
        }
    ]
}