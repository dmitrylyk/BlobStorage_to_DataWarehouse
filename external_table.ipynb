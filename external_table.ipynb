{
    "metadata": {
        "kernelspec": {
            "name": "SQL",
            "display_name": "SQL",
            "language": "sql"
        },
        "language_info": {
            "name": "sql",
            "version": ""
        }
    },
    "nbformat_minor": 2,
    "nbformat": 4,
    "cells": [
        {
            "cell_type": "code",
            "source": [
                "CREATE MASTER KEY ENCRYPTION BY PASSWORD = ''\n",
                "GO\n",
                ""
            ],
            "metadata": {
                "azdata_cell_guid": "1181a1c7-0f70-4d81-b9e7-d36908caba3b",
                "tags": [
                    "hide_input"
                ]
            },
            "outputs": [
                {
                    "output_type": "error",
                    "ename": "",
                    "evalue": "Msg 40630, Level 16, State 1, Line 1\nPassword validation failed. The password does not meet policy requirements because it is too short.",
                    "traceback": []
                },
                {
                    "output_type": "display_data",
                    "data": {
                        "text/html": "Total execution time: 00:00:00.066"
                    },
                    "metadata": {}
                }
            ],
            "execution_count": 22
        },
        {
            "cell_type": "code",
            "source": [
                "CREATE DATABASE SCOPED CREDENTIAL StorageCredentialLykhovsky\n",
                "WITH\n",
                "  IDENTITY = 'STORAGE-NAME' ,\n",
                "  SECRET = ''\n",
                "GO\n",
                ""
            ],
            "metadata": {
                "azdata_cell_guid": "20acdf4c-aecf-4cf8-9ca2-b4505cc39c24"
            },
            "outputs": [
                {
                    "output_type": "error",
                    "ename": "",
                    "evalue": "Msg 15530, Level 16, State 1, Line 1\nThe credential with name \"StorageCredentialLykhovsky\" already exists.",
                    "traceback": []
                },
                {
                    "output_type": "display_data",
                    "data": {
                        "text/html": "Total execution time: 00:00:00.072"
                    },
                    "metadata": {}
                }
            ],
            "execution_count": 7
        },
        {
            "cell_type": "code",
            "source": [
                "CREATE EXTERNAL DATA SOURCE LykhovskyDataSource WITH (\n",
                "    LOCATION = 'wasbs://CONTAINER-NAME@STORAGE-NAME.blob.core.windows.net/',\n",
                "    CREDENTIAL = StorageCredentialLykhovsky,\n",
                "    TYPE = HADOOP\n",
                ");\n",
                ""
            ],
            "metadata": {
                "azdata_cell_guid": "005aeb1f-9537-41d2-ab46-fc84f9326eac",
                "tags": []
            },
            "outputs": [
                {
                    "output_type": "display_data",
                    "data": {
                        "text/html": "Commands completed successfully."
                    },
                    "metadata": {}
                },
                {
                    "output_type": "display_data",
                    "data": {
                        "text/html": "Total execution time: 00:00:00.068"
                    },
                    "metadata": {}
                }
            ],
            "execution_count": 4
        },
        {
            "cell_type": "code",
            "source": [
                "CREATE EXTERNAL FILE FORMAT csv_file\n",
                "WITH (FORMAT_TYPE = DELIMITEDTEXT,\n",
                "      FORMAT_OPTIONS(\n",
                "          FIELD_TERMINATOR = ',',\n",
                "          STRING_DELIMITER = '\"',\n",
                "          FIRST_ROW = 2,\n",
                "          USE_TYPE_DEFAULT = True)\n",
                ")\n",
                ""
            ],
            "metadata": {
                "azdata_cell_guid": "6226c646-da61-42fc-9eb1-6c9aefed56cb"
            },
            "outputs": [
                {
                    "output_type": "error",
                    "ename": "",
                    "evalue": "Msg 46502, Level 16, State 1, Line 1\nType with name 'csv_file' already exists.",
                    "traceback": []
                },
                {
                    "output_type": "display_data",
                    "data": {
                        "text/html": "Total execution time: 00:00:00.060"
                    },
                    "metadata": {}
                }
            ],
            "execution_count": 5
        },
        {
            "cell_type": "code",
            "source": [
                "CREATE EXTERNAL TABLE lykhovsky_schema.table_external (\n",
                "    VendorID                INT,\n",
                "    tpep_pickup_datetime    DATETIME NOT NULL,\n",
                "\ttpep_dropoff_datetime   DATETIME NOT NULL,\n",
                "\tpassenger_count         INT,\n",
                "\ttrip_distance           FLOAT,\n",
                "\tRatecodeID              INT,\n",
                "\tstore_and_fwd_flag      CHAR(1),\n",
                "\tPULocationID            INT NOT NULL,\n",
                "\tDOLocationID            INT NOT NULL,\n",
                "\tpayment_type            INT,\n",
                "\tfare_amount             FLOAT,\n",
                "\textra                   FLOAT,\n",
                "\tmta_tax                 FLOAT,\n",
                "\ttip_amount              FLOAT,\n",
                "\ttolls_amount            FLOAT,\n",
                "\timprovement_surcharge   FLOAT,\n",
                "\ttotal_amount            FLOAT,\n",
                "\tcongestion_surcharge    FLOAT\n",
                ") WITH (\n",
                "    LOCATION = 'yellow_tripdata_2020-01.csv',\n",
                "    DATA_SOURCE = LykhovskyDataSource,\n",
                "    FILE_FORMAT = csv_file\n",
                ");\n",
                ""
            ],
            "metadata": {
                "azdata_cell_guid": "bed3634b-fe6b-4612-93f7-5079a1a267ed",
                "tags": []
            },
            "outputs": [
                {
                    "output_type": "display_data",
                    "data": {
                        "text/html": "Commands completed successfully."
                    },
                    "metadata": {}
                },
                {
                    "output_type": "display_data",
                    "data": {
                        "text/html": "Total execution time: 00:00:00.303"
                    },
                    "metadata": {}
                }
            ],
            "execution_count": 6
        }
    ]
}